{
 "cells": [
  {
   "cell_type": "markdown",
   "id": "eastern-prophet",
   "metadata": {},
   "source": [
    "## Initialisations"
   ]
  },
  {
   "cell_type": "code",
   "execution_count": null,
   "id": "proper-mailing",
   "metadata": {},
   "outputs": [],
   "source": [
    "TAP_URL = \"http://archive.eso.org/tap_obs\"\n",
    "TAP_URL_SIMBAD = 'https://simbad.unistra.fr/simbad/sim-tap'\n",
    "\n",
    "# Importing useful packages\n",
    "import os \n",
    "import sys\n",
    "import requests\n",
    "#import cgi\n",
    "import json\n",
    "import time\n",
    "from pathlib import Path\n",
    "from astropy.table import Table, vstack, unique\n",
    "\n",
    "import pyvo\n",
    "from pyvo.dal import tap\n",
    "from pyvo.auth.authsession import AuthSession\n",
    "    \n",
    "# Verify the version of pyvo \n",
    "from pkg_resources import parse_version\n",
    "pyvo_version = parse_version(pyvo.__version__) \n",
    "test_pyvo_version = (pyvo_version == parse_version('1.1') or pyvo_version > parse_version('1.2.1') )\n",
    "if not test_pyvo_version:\n",
    "    print('You are using a not supported version of pyvo (version={version}).\\nPlease use pyvo v1.1, v1.3, or higher, not v1.2* [ref. pyvo github issue #298]'.format(version=pyvo.__version__))\n",
    "    raise ImportError('The pyvo version you are using is not supported, use 1.3+ or 1.1.')\n",
    "\n",
    "import eso_programmatic as eso"
   ]
  },
  {
   "cell_type": "code",
   "execution_count": null,
   "id": "aee1c029-e06c-4eaa-82c5-a5169da3ce23",
   "metadata": {},
   "outputs": [],
   "source": [
    "def run_tap_query(tap, query):\n",
    "    results = None\n",
    "\n",
    "    # define a job that will run the query asynchronously \n",
    "    job = tap.submit_job(query)\n",
    "    \n",
    "    # extending the maximum duration of the job to 300s (default 60 seconds)\n",
    "    job.execution_duration = 300 # max allowed: 3600s\n",
    "    \n",
    "    # job initially is in phase PENDING; you need to run it and wait for completion: \n",
    "    job.run()\n",
    "    \n",
    "    try:\n",
    "        job.wait(phases=[\"COMPLETED\", \"ERROR\", \"ABORTED\"], timeout=600.)\n",
    "    except pyvo.DALServiceError:\n",
    "        print('Exception on JOB {id}: {status}'.format(id=job.job_id, status=job.phase))\n",
    "    \n",
    "    print(\"Job: %s %s\" %(job.job_id, job.phase))\n",
    "    \n",
    "    if job.phase == 'COMPLETED':\n",
    "        # When the job has completed, the results can be fetched:\n",
    "        results = job.fetch_result()\n",
    "    \n",
    "    # the job can be deleted (always a good practice to release the disk space on the ESO servers)\n",
    "    job.delete()\n",
    "\n",
    "    return results"
   ]
  },
  {
   "cell_type": "markdown",
   "id": "ea52bcd9-64f4-4cd3-9c51-a90f8e25b25d",
   "metadata": {},
   "source": [
    "## Prompt for user's credentials and get a token"
   ]
  },
  {
   "cell_type": "code",
   "execution_count": null,
   "id": "ideal-shelf",
   "metadata": {},
   "outputs": [],
   "source": [
    "import getpass\n",
    "\n",
    "username = input(\"Type your ESO username (blank for unauthenticated): \")\n",
    "if username:\n",
    "    password=getpass.getpass(prompt=\"%s's password: \"%(username), stream=None)\n",
    "\n",
    "    token = eso.getToken(username, password)\n",
    "    if token != None:\n",
    "        print('token: ' + token)\n",
    "        session = requests.Session()\n",
    "        session.headers['Authorization'] = \"Bearer \" + token\n",
    "\n",
    "        tap = pyvo.dal.TAPService(TAP_URL, session=session)\n",
    "    else:\n",
    "        sys.exit(-1)\n",
    "else:\n",
    "    print('OK, no proprietary data then ...')\n",
    "    token = ''\n",
    "    tap = pyvo.dal.TAPService(TAP_URL)"
   ]
  },
  {
   "cell_type": "markdown",
   "id": "fab18d5b-7969-4632-a1dc-0c18adf0b61b",
   "metadata": {},
   "source": [
    "## Resolve the target name with Simbad"
   ]
  },
  {
   "cell_type": "code",
   "execution_count": null,
   "id": "146c5f72-ea37-498c-be84-34e0aa9aacb7",
   "metadata": {},
   "outputs": [],
   "source": [
    "tap_simbad = pyvo.dal.TAPService(TAP_URL_SIMBAD)\n",
    "\n",
    "target = 'SN1987A'\n",
    "\n",
    "query_simbad = \"\"\"\n",
    "SELECT ra, dec, main_id\n",
    "  FROM basic\n",
    "  WHERE main_id = '\"\"\" + target + \"\"\"'\n",
    "\"\"\"\n",
    "\n",
    "simbad = run_tap_query(tap_simbad, query_simbad)\n",
    "ra = str(simbad['ra'].data[0])\n",
    "dec = str(simbad['dec'].data[0])"
   ]
  },
  {
   "cell_type": "markdown",
   "id": "4aac7d54-3be7-4695-8f95-3121f011f579",
   "metadata": {},
   "source": [
    "## Run the query to the ESO archive"
   ]
  },
  {
   "cell_type": "code",
   "execution_count": null,
   "id": "dde39d34-aab5-4a41-bed4-a4e7a1e6722a",
   "metadata": {},
   "outputs": [],
   "source": [
    "# define the query you want to run, e.g.:\n",
    "\n",
    "query = \"\"\"\n",
    "SELECT TOP 4 *\n",
    "FROM dbo.raw\n",
    "WHERE dp_cat = 'SCIENCE'\n",
    "AND instrument = 'UVES'\n",
    "AND  INTERSECTS(s_region, CIRCLE('ICRS', \"\"\" + ra + \"\"\", \"\"\" + dec + \"\"\", 100./3600.)) = 1\n",
    "                           -- a circle centered onto SN1987A, of radius=100 arcsec,\n",
    "AND date_obs > '2015'\n",
    "\"\"\""
   ]
  },
  {
   "cell_type": "code",
   "execution_count": null,
   "id": "arbitrary-magnet",
   "metadata": {
    "scrolled": true
   },
   "outputs": [],
   "source": [
    "results = tap_query(tap, query)\n",
    "\n",
    "# Let's print the results to examine the content:\n",
    "# check out the access_url and the datalink_url\n",
    "if results:\n",
    "    print('%i matching files found' % len(results))\n",
    "    # eso.printTableTransposedByTheRecord(results.to_table()) \n",
    "else:\n",
    "    print(\"!\" * 42)\n",
    "    print(\"!                                        !\")\n",
    "    print(\"!       No results could be found.       !\")\n",
    "    print(\"!       ? Perhaps no permissions ?       !\")\n",
    "    print(\"!       Aborting here.                   !\")\n",
    "    print(\"!                                        !\")\n",
    "    print(\"!\" * 42)\n",
    "    quit()"
   ]
  },
  {
   "cell_type": "markdown",
   "id": "auburn-laser",
   "metadata": {},
   "source": [
    "## Download the selected science files ..."
   ]
  },
  {
   "cell_type": "code",
   "execution_count": null,
   "id": "loaded-hammer",
   "metadata": {},
   "outputs": [],
   "source": [
    "dirname = input(\"Directory to save the files in: \")\n",
    "Path(dirname).mkdir(parents=True, exist_ok=True)\n",
    "\n",
    "print(\"Start downloading...\")\n",
    "for raw in results:\n",
    "    access_url = raw['access_url'] # the access_url is the link to the raw file\n",
    "    if username:\n",
    "        status, filepath = eso.downloadURL(access_url, session=session, dirname=dirname)\n",
    "    else:\n",
    "        status, filepath = eso.downloadURL(access_url, dirname=dirname)\n",
    "    if status==200:\n",
    "        print(\"      RAW: %s downloaded  \"  % (filepath))\n",
    "    else:\n",
    "        print(\"ERROR RAW: %s NOT DOWNLOADED (http status:%d)\"  % (filepath, status))\n",
    "print('... download complete')"
   ]
  },
  {
   "cell_type": "markdown",
   "id": "42df6ddf-d54f-40b9-abc8-e230f1234012",
   "metadata": {},
   "source": [
    "## ... and the corresponding calibrations"
   ]
  },
  {
   "cell_type": "code",
   "execution_count": null,
   "id": "described-ancient",
   "metadata": {
    "scrolled": true
   },
   "outputs": [],
   "source": [
    "mode_requested = 'raw2raw'\n",
    "semantics = 'http://archive.eso.org/rdf/datalink/eso#calSelector_' + mode_requested\n",
    "\n",
    "uniqe_calib_urls = Table(names=('access_url', 'eso_category'), dtype=('object', 'object'))\n",
    "\n",
    "for result in results:\n",
    "    print('Processing raw science file %s for calibrations' % result['dp_id'])\n",
    "    datalink_url = result['datalink_url']\n",
    "\n",
    "    if username:\n",
    "        datalink = pyvo.dal.adhoc.DatalinkResults.from_result_url(datalink_url, session=session)\n",
    "    else:\n",
    "        datalink = pyvo.dal.adhoc.DatalinkResults.from_result_url(datalink_url)\n",
    "\n",
    "    calsel_url = next(datalink.bysemantics(semantics)).access_url\n",
    "\n",
    "    if username:\n",
    "        associated_calib_files = pyvo.dal.adhoc.DatalinkResults.from_result_url(calsel_url, session=session)\n",
    "    else:\n",
    "        associated_calib_files = pyvo.dal.adhoc.DatalinkResults.from_result_url(calsel_url)\n",
    "\n",
    "    # create and use a mask to get only the #calibration entries,\n",
    "    # given that other entries, like #this or ...#sibiling_raw, could be present:\n",
    "    calibrator_mask = associated_calib_files['semantics'] == '#calibration'\n",
    "    calib_urls = associated_calib_files.to_table()[calibrator_mask]['access_url','eso_category']\n",
    "\n",
    "    uniqe_calib_urls = unique(vstack([uniqe_calib_urls, calib_urls]), keys='access_url')\n",
    "\n",
    "i_calib=0\n",
    "for url, category in uniqe_calib_urls:\n",
    "    i_calib+=1\n",
    "    status, filename = eso.downloadURL(url, dirname=dirname)\n",
    "    if status==200:\n",
    "        print(\"       ... %4d/%d dp_id: %s (%s) downloaded\"  % (i_calib, len(uniqe_calib_urls), filename, category))\n",
    "    else:\n",
    "        print(\"       ... %4d/%d dp_id: %s (%s) NOT DOWNLOADED (http status:%d)\"  % (i_calib,len(unique_calib_urls), filename, category, status))\n",
    "\n",
    "print('... download done!')\n"
   ]
  },
  {
   "cell_type": "markdown",
   "id": "5d151eb1-987f-464a-9a22-232b4ef26320",
   "metadata": {},
   "source": [
    "## All done!"
   ]
  },
  {
   "cell_type": "code",
   "execution_count": null,
   "id": "4ec8ad9a-8486-43a3-9455-45f261361d8a",
   "metadata": {},
   "outputs": [],
   "source": []
  }
 ],
 "metadata": {
  "kernelspec": {
   "display_name": "Python 3 (ipykernel)",
   "language": "python",
   "name": "python3"
  },
  "language_info": {
   "codemirror_mode": {
    "name": "ipython",
    "version": 3
   },
   "file_extension": ".py",
   "mimetype": "text/x-python",
   "name": "python",
   "nbconvert_exporter": "python",
   "pygments_lexer": "ipython3",
   "version": "3.13.2"
  }
 },
 "nbformat": 4,
 "nbformat_minor": 5
}
