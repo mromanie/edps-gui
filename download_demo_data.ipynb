{
 "cells": [
  {
   "cell_type": "markdown",
   "id": "a309c9b6-468a-4901-b110-467ce1f20ecd",
   "metadata": {},
   "source": [
    "# Download the demo data for a given instrument"
   ]
  },
  {
   "cell_type": "code",
   "execution_count": null,
   "id": "2095cbde-8ce2-4d74-a2a4-c69b11062ff7",
   "metadata": {},
   "outputs": [],
   "source": [
    "import utilities\n",
    "import os\n",
    "import requests\n",
    "import tarfile\n",
    "from urllib.parse import urlparse\n",
    "from tqdm import tqdm"
   ]
  },
  {
   "cell_type": "markdown",
   "id": "269ec82d-6fe4-4b12-903f-25be2863e18d",
   "metadata": {},
   "source": [
    "## Input the instrument name"
   ]
  },
  {
   "cell_type": "code",
   "execution_count": null,
   "id": "27f354a2-0124-41f7-9181-b9ec122e816d",
   "metadata": {},
   "outputs": [],
   "source": [
    "selector = utilities.TextSelector(default_description='Instrument name:', default_input='uves')\n",
    "selector.display()"
   ]
  },
  {
   "cell_type": "code",
   "execution_count": null,
   "id": "1aea6564-f815-44f8-9a06-fe07b50028a1",
   "metadata": {},
   "outputs": [],
   "source": [
    "instrument_name = selector.get_input().lower()\n",
    "\n",
    "extractor = utilities.DemoDataExtractor('https://www.eso.org/sci/software/pipe_aem_table.html')\n",
    "link = extractor.get_demo_data_link(instrument_name)\n",
    "print(f\"The Demo Data link for {instrument_name.upper()} is: {link}\")"
   ]
  },
  {
   "cell_type": "markdown",
   "id": "a75bdce4-1ba6-4899-97e0-4da9cbcd8d8d",
   "metadata": {},
   "source": [
    "## Locate and download the demo data tar.gz and unpack it"
   ]
  },
  {
   "cell_type": "code",
   "execution_count": null,
   "id": "b9c96e3d-8d46-48b3-8968-dc93c60876ca",
   "metadata": {},
   "outputs": [],
   "source": [
    "# Extract the filename from the URL\n",
    "filename = os.path.basename(urlparse(link).path)\n",
    "\n",
    "def safe_extract_filter(member, tar):\n",
    "    # Prevent path traversal attacks\n",
    "    target_path = os.path.abspath(os.path.join('.', member.name))\n",
    "    if not target_path.startswith(os.path.abspath('.')):\n",
    "        raise Exception(\"Attempted Path Traversal in Tar File\")\n",
    "    return member\n",
    "\n",
    "# Download the file with a progress indicator\n",
    "response = requests.get(link, stream=True)\n",
    "total_size = int(response.headers.get('content-length', 0))\n",
    "block_size = 1024  # 1 Kibibyte\n",
    "\n",
    "with open(filename, 'wb') as f, tqdm(total=total_size, unit='iB', unit_scale=True) as progress_bar:\n",
    "    for chunk in response.iter_content(chunk_size=block_size):\n",
    "        f.write(chunk)\n",
    "        progress_bar.update(len(chunk))\n",
    "\n",
    "with tarfile.open(filename, 'r:gz') as tar:\n",
    "    tar.extractall(path='.', filter=safe_extract_filter)\n",
    "\n",
    "os.remove(filename)"
   ]
  }
 ],
 "metadata": {
  "kernelspec": {
   "display_name": "Python 3 (ipykernel)",
   "language": "python",
   "name": "python3"
  },
  "language_info": {
   "codemirror_mode": {
    "name": "ipython",
    "version": 3
   },
   "file_extension": ".py",
   "mimetype": "text/x-python",
   "name": "python",
   "nbconvert_exporter": "python",
   "pygments_lexer": "ipython3",
   "version": "3.13.2"
  }
 },
 "nbformat": 4,
 "nbformat_minor": 5
}
